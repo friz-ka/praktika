{
  "cells": [
    {
      "cell_type": "markdown",
      "metadata": {
        "id": "cA8Dhu5_jdRV"
      },
      "source": [
        "# Неделя 1. Визуализация данных\n",
        "То, что вы видите перед собой - это **Jupyter Notebook**, такой специальный интерактивный блокнот, который содержит и текст с оформлением и фрагменты кода, при запуске любого из которых под ним появится блок с результатами выполнения.\n",
        "Почитать подробнее об этой технологии можно вот здесь: https://webdevblog.ru/jupyter-notebook-dlya-nachinajushhih-uchebnik/\n",
        "В строке браузера вы видите адрес jupyter-сервера, который настроен для выполнения этих заданий. Однако, если у вас есть потребность, вы можете загрузить сам файл с расширением .ipynb и в другие программы и веб-сервисы для работы с таким форматом. Выполнение заданий возможно в любой удобной вам среде."
      ]
    },
    {
      "cell_type": "markdown",
      "metadata": {
        "id": "qje3291EjdRW",
        "scrolled": true
      },
      "source": [
        "## Подготовительные действия\n",
        "### Установка библиотеки\n",
        "Если среда выполнения не содержит нужной вам библиотеки, необходимо установить ее с помощью команды **pip install**\n",
        "Это действие достаточно  выполнить один раз за активный сеанс, поэтому и описывается оно только в одном блоке кода.\n",
        "Для выполнения этого задания нам понадобятся библиотеки:\n",
        "- **pandas** для парсинга и обработки набора открытых данных в формате csv;\n",
        "- **geopy** для подсчета расстояний между точками в пространстве.\n",
        "\n",
        "[Подробнее про pandas](https://proglib.io/p/samouchitel-po-pandas-dlya-nachinayushchih-chast-25-osnovy-analiza-dannyh-s-pandas-2023-07-24)\n",
        "\n",
        "\n"
      ]
    },
    {
      "cell_type": "code",
      "execution_count": 1,
      "metadata": {
        "colab": {
          "base_uri": "https://localhost:8080/"
        },
        "editable": true,
        "id": "z9gPD89VjdRW",
        "outputId": "6fc07953-7442-44a2-d6ef-ce59c13024ba",
        "scrolled": true,
        "tags": []
      },
      "outputs": [
        {
          "name": "stdout",
          "output_type": "stream",
          "text": [
            "Requirement already satisfied: pandas in c:\\users\\roskadastr\\anaconda3\\lib\\site-packages (1.5.3)\n",
            "Requirement already satisfied: python-dateutil>=2.8.1 in c:\\users\\roskadastr\\anaconda3\\lib\\site-packages (from pandas) (2.8.2)\n",
            "Requirement already satisfied: pytz>=2020.1 in c:\\users\\roskadastr\\anaconda3\\lib\\site-packages (from pandas) (2022.7)\n",
            "Requirement already satisfied: numpy>=1.21.0 in c:\\users\\roskadastr\\anaconda3\\lib\\site-packages (from pandas) (1.24.3)\n",
            "Requirement already satisfied: six>=1.5 in c:\\users\\roskadastr\\anaconda3\\lib\\site-packages (from python-dateutil>=2.8.1->pandas) (1.16.0)\n"
          ]
        }
      ],
      "source": [
        "!pip3 install pandas"
      ]
    },
    {
      "cell_type": "code",
      "execution_count": 2,
      "metadata": {
        "colab": {
          "base_uri": "https://localhost:8080/"
        },
        "id": "b-xuo-PBPJ3V",
        "outputId": "1d58d55a-3516-4dbb-bbc8-801280f2a6d9"
      },
      "outputs": [
        {
          "name": "stdout",
          "output_type": "stream",
          "text": [
            "Collecting geopy\n",
            "  Obtaining dependency information for geopy from https://files.pythonhosted.org/packages/e5/15/cf2a69ade4b194aa524ac75112d5caac37414b20a3a03e6865dfe0bd1539/geopy-2.4.1-py3-none-any.whl.metadata\n",
            "  Downloading geopy-2.4.1-py3-none-any.whl.metadata (6.8 kB)\n",
            "Collecting geographiclib<3,>=1.52 (from geopy)\n",
            "  Obtaining dependency information for geographiclib<3,>=1.52 from https://files.pythonhosted.org/packages/31/b3/802576f2ea5dcb48501bb162e4c7b7b3ca5654a42b2c968ef98a797a4c79/geographiclib-2.1-py3-none-any.whl.metadata\n",
            "  Downloading geographiclib-2.1-py3-none-any.whl.metadata (1.6 kB)\n",
            "Downloading geopy-2.4.1-py3-none-any.whl (125 kB)\n",
            "   ---------------------------------------- 0.0/125.4 kB ? eta -:--:--\n",
            "   --------- ----------------------------- 30.7/125.4 kB 640.0 kB/s eta 0:00:01\n",
            "   ---------------------------- ---------- 92.2/125.4 kB 871.5 kB/s eta 0:00:01\n",
            "   -------------------------------------  122.9/125.4 kB 798.9 kB/s eta 0:00:01\n",
            "   -------------------------------------- 125.4/125.4 kB 817.0 kB/s eta 0:00:00\n",
            "Downloading geographiclib-2.1-py3-none-any.whl (40 kB)\n",
            "   ---------------------------------------- 0.0/40.7 kB ? eta -:--:--\n",
            "   ---------------------------------------- 40.7/40.7 kB ? eta 0:00:00\n",
            "Installing collected packages: geographiclib, geopy\n",
            "Successfully installed geographiclib-2.1 geopy-2.4.1\n"
          ]
        }
      ],
      "source": [
        "!pip3 install geopy"
      ]
    },
    {
      "cell_type": "markdown",
      "metadata": {
        "editable": true,
        "id": "H4NTcopojdRX",
        "raw_mimetype": "",
        "tags": []
      },
      "source": [
        "### Подключение модуля и парсинг файла\n",
        "Подключить установленный ранее (или стандартный) модуль можно с помощью инструкции **import**.\n",
        "Модули подключаются в самом начале кода.\n",
        "\n",
        "Для работы с данными будем использовать библиотеку **pandas**. В файле *Rus_schools_final.csv* находятся открытые данные о разных школах в РФ.\n",
        "\n",
        "Прочитайте комментарии и код в следующем фрагменте и попробуйте запустить его, чтоб понять, как он работает."
      ]
    },
    {
      "cell_type": "code",
      "execution_count": 3,
      "metadata": {
        "colab": {
          "base_uri": "https://localhost:8080/",
          "height": 591
        },
        "id": "8rWYEiiPMxZO",
        "outputId": "c484e441-acef-496e-a5be-c35a59968b67"
      },
      "outputs": [
        {
          "ename": "ModuleNotFoundError",
          "evalue": "No module named 'pyproj'",
          "output_type": "error",
          "traceback": [
            "\u001b[1;31m---------------------------------------------------------------------------\u001b[0m",
            "\u001b[1;31mModuleNotFoundError\u001b[0m                       Traceback (most recent call last)",
            "Cell \u001b[1;32mIn[3], line 2\u001b[0m\n\u001b[0;32m      1\u001b[0m \u001b[38;5;66;03m# Импортируем библиотеки\u001b[39;00m\n\u001b[1;32m----> 2\u001b[0m \u001b[38;5;28;01mimport\u001b[39;00m \u001b[38;5;21;01mpyproj\u001b[39;00m\n\u001b[0;32m      3\u001b[0m \u001b[38;5;28;01mimport\u001b[39;00m \u001b[38;5;21;01mpandas\u001b[39;00m \u001b[38;5;28;01mas\u001b[39;00m \u001b[38;5;21;01mpd\u001b[39;00m\n\u001b[0;32m      6\u001b[0m \u001b[38;5;66;03m# Парсим интересующий нас xml-файл\u001b[39;00m\n",
            "\u001b[1;31mModuleNotFoundError\u001b[0m: No module named 'pyproj'"
          ]
        }
      ],
      "source": [
        "# Импортируем библиотеки\n",
        "import pyproj\n",
        "import pandas as pd\n",
        "\n",
        "\n",
        "# Парсим интересующий нас xml-файл\n",
        "df = pd.read_csv('Rus_schools_final.csv', encoding = 'windows-1251')\n",
        "\n",
        "# Для понимания структуры файла выводим заголовки\n",
        "df.head()"
      ]
    },
    {
      "cell_type": "markdown",
      "metadata": {
        "id": "sxNYht2IRGPV"
      },
      "source": [
        "## Работа с расстояниями в geopy\n",
        "В следующем блоке кода продемонстрировано, как можно посчитать расстояние между двух точек, и как можно найти ближайшую точку из множества."
      ]
    },
    {
      "cell_type": "markdown",
      "metadata": {
        "id": "oikb2p0ZRBm3"
      },
      "source": []
    },
    {
      "cell_type": "code",
      "execution_count": null,
      "metadata": {
        "colab": {
          "base_uri": "https://localhost:8080/"
        },
        "id": "El3pkbyKQgiS",
        "outputId": "f0a450ac-b671-473e-808a-22909ba2972a"
      },
      "outputs": [
        {
          "name": "stdout",
          "output_type": "stream",
          "text": [
            "Расстояние между Москвой и Санкт-Петербургом: 635.75 км\n",
            "Исходная точка: (55.7558, 37.6173)\n",
            "Ближайшая точка к исходной: (55.7558, 37.6173)\n"
          ]
        }
      ],
      "source": [
        "from geopy.distance import geodesic\n",
        "\n",
        "# Заданные координаты двух точек\n",
        "point_a = (55.7558, 37.6173)  # Москва\n",
        "point_b = (59.9391, 30.3158)   # Санкт-Петербург\n",
        "\n",
        "# Вычисляем расстояние между точками\n",
        "distance = geodesic(point_a, point_b).kilometers\n",
        "print(f'Расстояние между Москвой и Санкт-Петербургом: {distance:.2f} км')\n",
        "\n",
        "# Массив координат для нахождения ближайшей точки\n",
        "points_array = [\n",
        "    (55.7558, 37.6173),  # Москва\n",
        "    (59.9391, 30.3158),  # Санкт-Петербург\n",
        "    (53.9025, 27.5614),  # Минск\n",
        "    (48.8566, 2.3522),   # Париж\n",
        "]\n",
        "\n",
        "# Координаты исходной точки\n",
        "target_point = (55.7558, 37.6173)\n",
        "print(f\"Исходная точка: {target_point}\")\n",
        "\n",
        "# Нахождение ближайшей точки из массива\n",
        "closest_point = min(points_array, key=lambda p: geodesic(target_point, p))\n",
        "print(f\"Ближайшая точка к исходной: {closest_point}\")"
      ]
    },
    {
      "cell_type": "markdown",
      "metadata": {
        "id": "GMLaW70LSjab"
      },
      "source": [
        "# Примеры кода для обработки данных о школах\n",
        "Посчитаем, сколько в наборе данных есть школ с типом \"Муниципальное образовательное учреждение\""
      ]
    },
    {
      "cell_type": "code",
      "execution_count": null,
      "metadata": {
        "colab": {
          "base_uri": "https://localhost:8080/"
        },
        "id": "CxveN0JiSuPK",
        "outputId": "971e5e30-fd73-42c6-f7d7-eadddddf3541"
      },
      "outputs": [
        {
          "name": "stdout",
          "output_type": "stream",
          "text": [
            "37567\n"
          ]
        }
      ],
      "source": [
        "# Импортируем библиотеки\n",
        "import pyproj\n",
        "import pandas as pd\n",
        "\n",
        "\n",
        "# Парсим интересующий нас xml-файл\n",
        "df = pd.read_csv('Rus_schools_final.csv', encoding = 'windows-1251')\n",
        "\n",
        "munic = df.loc[df['struct'] == '(Муниципальное образовательное учреждение)']\n",
        "print(len(munic))"
      ]
    },
    {
      "cell_type": "markdown",
      "metadata": {
        "id": "oAJPHXSxcHMI"
      },
      "source": [
        "В следующем блоке кода выведем список названий всех школ, расположенных в Качуге (по сведениям из адреса)."
      ]
    },
    {
      "cell_type": "code",
      "execution_count": null,
      "metadata": {
        "colab": {
          "base_uri": "https://localhost:8080/"
        },
        "id": "CiPcugkkT8-_",
        "outputId": "ff53595e-6c64-4159-9a36-43d8eb3556e1"
      },
      "outputs": [
        {
          "name": "stdout",
          "output_type": "stream",
          "text": [
            "Муниципальное образовательное учреждение Вершино-Тутурская основная общеобразовательная школа\n",
            "Муниципальное образовательное учреждение Качугская средняя общеобразовательная школа № 2\n",
            "Муниципальное образовательное учреждение Чептыхойская начальная общеобразовательная школа\n",
            "Муниципальное образовательное учреждение Качугская средняя общеобразовательная школа № 1\n",
            "Муниципальное образовательное учреждение Чернорудская начальная общеобразовательная школа\n",
            "Муниципальное образовательное учреждение Шейнская начальная общеобразовательная школа\n",
            "Муниципальное образовательное учреждение Щаповская начальная общеобразовательная школа\n",
            "Муниципальное образовательное учреждение Аргунская начальная общеобразовательная школа\n",
            "Муниципальное образовательное учреждение Больше-Тарельская основная общеобразовательная школа\n",
            "Муниципальное образовательное учреждение Косогольская начальная общеобразовательная школа\n",
            "Муниципальное образовательное учреждение Литвиновская начальная общеобразовательная школа\n",
            "Муниципальное образовательное учреждение Мало-Тарельская начальная общеобразовательная школа\n",
            "Муниципальное образовательное учреждение Корсуковская начальная общеобразовательная школа\n",
            "Муниципальное образовательное учреждение Полосковская начальная общеобразовательная школа\n",
            "Муниципальное образовательное учреждение Больше-Головская начальная общеобразовательная школа\n",
            "Муниципальное образовательное учреждение Никилейская начальная общеобразовательная школа\n",
            "Муниципальное образовательное учреждение Ацикякская начальная общеобразовательная школа\n",
            "Муниципальное образовательное учреждение Магданская начальная общеобразовательная школа\n",
            "Муниципальное образовательное учреждение Челпановская начальная общеобразовательная школа\n",
            "Муниципальное образовательное учреждение Тимирязевская начальная общеобразовательная школа\n",
            "Муниципальное образовательное учреждение Красноярская начальная общеобразовательная школа\n",
            "Муниципальное образовательное учреждение Шишкинская начальная общеобразовательная школа\n",
            "Муниципальное образовательное учреждение Алексеевская начальная общеобразовательная школа\n",
            "Муниципальное образовательное учреждение Исетская начальная общеобразовательная школа\n",
            "Муниципальное образовательное учреждение Карлукская начальная общеобразовательная школа\n",
            "Муниципальное образовательное учреждение Верхоленская средняя общеобразовательная школа\n",
            "Муниципальное образовательное учреждение Малоголовская основная общеобразовательная школа\n",
            "Муниципальное образовательное учреждение Манзурская средняя общеобразовательная школа\n",
            "Муниципальное образовательное учреждение Мысовская начальная общеобразовательная школа\n",
            "Муниципальное образовательное учреждение Ангинская средняя общеобразовательная школа\n",
            "Муниципальное образовательное учреждение Бирюльская средняя общеобразовательная школа\n",
            "Муниципальное образовательное учреждение Залогская средняя общеобразовательная школа\n",
            "Муниципальное образовательное учреждение Харбатовская средняя общеобразовательная школа\n",
            "Муниципальное образовательное учреждение Белоусовская основная общеобразовательная школа\n",
            "Муниципальное образовательное учреждение Бутаковская средняя общеобразовательная школа\n",
            "Муниципальное образовательное учреждение Зареченская начальная общеобразовательная школа\n",
            "Муниципальное общеобразовательное учреждение \"Качугская вечерняя (сменная) общеобразовательная школа\"\n"
          ]
        }
      ],
      "source": [
        "# Импортируем библиотеки\n",
        "import pyproj\n",
        "import pandas as pd\n",
        "\n",
        "\n",
        "# Парсим интересующий нас xml-файл\n",
        "df = pd.read_csv('Rus_schools_final.csv', encoding = 'windows-1251')\n",
        "\n",
        "# Фильтрация записей 1\n",
        "mask = df['addr'].str.contains('Качуг', case=False, na=False)\n",
        "\n",
        "\n",
        "# Выбор имени тех записей, которые удовлетворяют условию\n",
        "names = df.loc[mask]['name']\n",
        "\n",
        "# Печать результата\n",
        "for sc_name in names.to_list():\n",
        "  print(sc_name)"
      ]
    },
    {
      "cell_type": "markdown",
      "metadata": {
        "id": "aY20SdV5dD2q"
      },
      "source": [
        "Следующий блок содержит код, который находит и выводит список всех школ в 1 километре от МИИГАиК"
      ]
    },
    {
      "cell_type": "code",
      "execution_count": null,
      "metadata": {
        "colab": {
          "base_uri": "https://localhost:8080/"
        },
        "id": "9cqa_UXycbGp",
        "outputId": "e76c73f0-c054-4802-d707-5cded0301b9d"
      },
      "outputs": [
        {
          "name": "stdout",
          "output_type": "stream",
          "text": [
            "Средняя общеобразовательная школа № 320 | Тип: (Государственное образовательное учреждение)\n",
            "Средняя общеобразовательная школа № 613 | Тип: (Государственное образовательное учреждение)\n",
            "Центр образования № 1480 | Тип: (Государственное образовательное учреждение)\n",
            "Открытая (сменная) общеобразовательная школа № 27 | Тип: (Государственное образовательное учреждение)\n",
            "Средняя общеобразовательная школа № 330 | Тип: (Государственное образовательное учреждение)\n",
            "Cредняя общеобразовательная школа с углубленным изучением французского языка № 1225 | Тип: (Государственное образовательное учреждение)\n",
            "ГБОУ Средняя общеобразовательная школа с этнокультурным (еврейским) компонентом образования №1621 \"Лаудер Эц-Хаим\" | Тип: (Государственное образовательное учреждение)\n"
          ]
        }
      ],
      "source": [
        "import pandas as pd\n",
        "from geopy.distance import geodesic\n",
        "\n",
        "# Чтение данных из CSV\n",
        "df = pd.read_csv('Rus_schools_final.csv', encoding = 'windows-1251')\n",
        "\n",
        "# Точка отсчета (МИИГАиК)\n",
        "point_a = (55.7639801784494, 37.66334185235405)\n",
        "\n",
        "# Добавляем столбец distance, содержащий расстояние до точки А\n",
        "def calculate_distance(row):\n",
        "    return geodesic((row['lat'], row['lon']), point_a).kilometers\n",
        "\n",
        "df['distance'] = df.apply(calculate_distance, axis=1)\n",
        "\n",
        "# Фильтруем объекты, находящиеся ближе 1 км\n",
        "filtered_df = df[df['distance'] <= 1]\n",
        "\n",
        "# Извлекаем и имена и типы ближайших объектов\n",
        "results = filtered_df[['name', 'struct']]\n",
        "\n",
        "# Вывод результатов\n",
        "for _,row in results.iterrows():\n",
        "    print(f\"{row['name']} | Тип: {row['struct']}\")"
      ]
    },
    {
      "cell_type": "markdown",
      "metadata": {
        "id": "_VnFDYTnemMc"
      },
      "source": [
        "А теперь найдем самую дальнюю от МИИГАиК школу в России."
      ]
    },
    {
      "cell_type": "code",
      "execution_count": null,
      "metadata": {
        "colab": {
          "base_uri": "https://localhost:8080/"
        },
        "id": "qFZv1JjfepVh",
        "outputId": "9221a2d3-da6e-4008-90ad-e3a87bc48298"
      },
      "outputs": [
        {
          "name": "stdout",
          "output_type": "stream",
          "text": [
            "Имя школы: Муниципальное общеобразовательное учреждение средняя общеобразовательная школа с.Крабозаводское Южно-Курильский район, (св-во о гос. аккредит. АА 079500 от 27.12.2002)\n",
            "Адрес: 694500, Россия, Сахалинская область, Южно-Курильский район, с.Крабозаводское, ул.Ключевая, 16\n",
            "Расстояние до школы: 7091.13 километров\n"
          ]
        }
      ],
      "source": [
        "import pandas as pd\n",
        "from geopy.distance import geodesic\n",
        "\n",
        "# Чтение данных из CSV\n",
        "df = pd.read_csv('Rus_schools_final.csv', encoding = 'windows-1251')\n",
        "\n",
        "# Точка отсчета (МИИГАиК)\n",
        "point_a = (55.7639801784494, 37.66334185235405)\n",
        "\n",
        "# Добавляем столбец distance, содержащий расстояние до точки А\n",
        "def calculate_distance(row):\n",
        "    return geodesic((row['lat'], row['lon']), point_a).kilometers\n",
        "\n",
        "df['distance'] = df.apply(calculate_distance, axis=1)\n",
        "\n",
        "# Найдем дальнейшую школу (школу с максимальным расстоянием)\n",
        "nearest_school_row = df.loc[df['distance'].idxmax()]\n",
        "\n",
        "# Форматируем вывод нужной информации\n",
        "output_string = f\"\"\"\n",
        "Имя школы: {nearest_school_row['name']}\n",
        "Адрес: {nearest_school_row['addr']}\n",
        "Расстояние до школы: {nearest_school_row['distance']:.2f} километров\n",
        "\"\"\"\n",
        "\n",
        "# Выводим информацию о самой близкой школе\n",
        "print(output_string.strip())"
      ]
    },
    {
      "cell_type": "markdown",
      "metadata": {
        "id": "I_je5_ykB3Be"
      },
      "source": [
        "# Задание для самостоятельной проработки темы\n",
        "После освоения данных интерактивных материалов вам необходимо сделать следующее:\n",
        "1. Внести изменения в последний блок кода:\n",
        "\n",
        "  1.1. Заполнить, используя html теги, заголовок уровня `<h1>` с фразой \"Отчет за 1 неделю ознакомительной практики по разработке программного обеспечения геосервиса\";\n",
        "\n",
        "  1.2. Заполнить подзаголовок уровня `<h2>` \"выполнил:\" с указанием ваших ФИО и группы;\n",
        "  \n",
        "  1.3. Найдите ближайшую к вашему дому школу, и добавьте в вывод все ее характеристики из файла данных;\n",
        "  \n",
        "  1.4. Найдите все школы в радиусе 3 км от вашего дома, в вывод добавьте их название (name) и адреса (addr);\n",
        "\n",
        "  1.5. Добавьте в вывод количество школ с типом(struct) \"Государственное образовательное учреждение\";\n",
        "\n",
        "2. Раскомментировать (убрать в начале строки знак #) строки с сохранением получившегося html в файл;\n",
        "3. Перезапустить последний блок кода;\n",
        "4. Из бокового списка файлов скачать файл \"result.html\" и прикрепить его как ответ на задание в СДО."
      ]
    },
    {
      "cell_type": "code",
      "execution_count": 29,
      "metadata": {
        "id": "SOj_gr3zB9Fc"
      },
      "outputs": [],
      "source": [
        "import pandas as pd\n",
        "from geopy.distance import geodesic\n",
        "\n",
        "# Чтение данных из CSV\n",
        "df = pd.read_csv('Rus_schools_final.csv', encoding = 'windows-1251')\n",
        "\n",
        "# Точка отсчета (ваш дом)\n",
        "point_0 = (58.523041586225524, 31.269010301852386)\n",
        "\n",
        "result_html='''<html>\n",
        "    <body>\n",
        "      <h1>Отчет за 1 неделю ознакомительной практики по разработке программного обеспечения геосервиса</h1>\n",
        "      <h2>Выполнил: Сивец Р.И. группа 2024-ФГиИБ-ИС-2см</h2>'''\n",
        "\n",
        "# здесь вставить выполнение пункта 1.3\n",
        "\n",
        "def calculate_distance(row):\n",
        "    return geodesic((row['lat'], row['lon']), point_0).kilometers\n",
        "df['distance'] = df.apply(calculate_distance, axis=1)\n",
        "nearest_school_row = df.loc[df['distance'].idxmin()]\n",
        "\n",
        "output_string_1_3 = f\"\"\"\n",
        "Имя школы: {nearest_school_row['name']}\n",
        "Тип школы: {nearest_school_row ['struct']}\n",
        "Адрес: {nearest_school_row['addr']}\n",
        "Координаты: {nearest_school_row['lat']},{nearest_school_row['lon'] }\n",
        "Расстояние до школы: {nearest_school_row['distance']:.2f} километров\n",
        "\"\"\"\n",
        "\n",
        "# записать полученное в 1.3 в конце result_html:\n",
        "\n",
        "result_html = result_html + \"<p>\"+ output_string_1_3 +\"</p>\"\n",
        "\n",
        "# выполнить и дописать в result_html пункты 1.4 и 1.5\n",
        "output_string_1_4 = f\"\"\n",
        "def calculate_distance(row):\n",
        "    return geodesic((row['lat'], row['lon']), point_0).kilometers\n",
        "df['distance'] = df.apply(calculate_distance, axis=1)\n",
        "filtered_df = df[df['distance'] <= 3]\n",
        "results = filtered_df[['name', 'addr']]\n",
        "for _,row in results.iterrows():\n",
        "    output_string_1_4 = \"<p>\"+(output_string_1_4 + f\"{row['name']} | Адрес: {row['addr']}\")+\"</p>\"\n",
        "result_html = result_html +\"<p>\"\"<b>\"'Список школ в радиусе 3 км:'\"</b>\"\"</p>\"+\"<p>\"+ output_string_1_4 + \"</p>\"\n",
        "\n",
        "#последнее задание\n",
        "\n",
        "output_string_1_5 = f\"\"\n",
        "gov = df.loc[df['struct'] == '(Государственное образовательное учреждение)']\n",
        "output_string_1_5 = f\"Государственных образовательных учреждений: {len(gov)}\"\n",
        "\n",
        "result_html = result_html + output_string_1_5\n",
        "\n",
        "# Вывод результатов\n",
        "\n",
        "result_html = result_html + ('''\n",
        "    </body>\n",
        "</html>''')\n",
        "file_html = open(\"result.html\", \"w\")\n",
        "file_html.write(result_html)\n",
        "file_html.close()"
      ]
    }
  ],
  "metadata": {
    "colab": {
      "provenance": []
    },
    "kernelspec": {
      "display_name": "base",
      "language": "python",
      "name": "python3"
    },
    "language_info": {
      "codemirror_mode": {
        "name": "ipython",
        "version": 3
      },
      "file_extension": ".py",
      "mimetype": "text/x-python",
      "name": "python",
      "nbconvert_exporter": "python",
      "pygments_lexer": "ipython3",
      "version": "3.11.4"
    }
  },
  "nbformat": 4,
  "nbformat_minor": 0
}
