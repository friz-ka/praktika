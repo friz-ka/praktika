{
  "cells": [
    {
      "cell_type": "markdown",
      "id": "2bcb744d-8360-4821-80e4-9c0472742a4b",
      "metadata": {
        "id": "2bcb744d-8360-4821-80e4-9c0472742a4b"
      },
      "source": [
        "# Неделя 3. Перепроецирование с использованием pyproj\n",
        "## Системы координат. Немного теории\n",
        "\n",
        "*К сожалению, Земля не плоская. А монитор плоский*\n",
        "\n",
        "Почитать краткую теорию про системы координат вообще можно вот здесь https://disk.yandex.ru/i/vY__bZq5vumQoQ . Эта информация не понадобится для выполнения работы напрямую, но облегчит понимание того, что мы вообще делаем и зачем.\n",
        "\n",
        "Большинство карт по умолчанию работают с wgs84 (EPSG:4326 https://epsg.io/4326), когда идет речь о координатах в градусах. Также часто используется EPSG:3857  https://epsg.io/3857, если необходимо описание координат в метрах.\n",
        "\n",
        "Кадастр в РФ работает с координатами характерных точек в местных системах координат (МСК). Местная система координат - это плоская система, взятая как проекция Меркатора к эллипсоиду Красовского. Для того, чтобы минимизировать погрешности определения точек, РФ поделена на зоны картографической проекции, объекты в каждой из которой ставятся на учет в соответствующей этой зоне системе координат. Каждый регион разделен на 3-градусные зоны. Разделение проходит не по прямым, параллельным меридианам, а вдоль кадастрового деления. Что дает нам факт: каждый кадастровый квартал должен содержать внутри объекты в одной системе координат. Внутри квартала не может существовать двух рекомендуемых местных систем координат.\n",
        "\n",
        "### Формат строки proj\n",
        "\n",
        "Существует множество форматов, которые используются для описания референсных систем координат. Наиболее распространенными форматами являются: proj.4, EPSG, формат Well-known Text (WKT).\n",
        "\n",
        "Для работы с pyproj нам необходимо использовать формат proj.4\n",
        "\n",
        "Формат PROJ.4 strings – используют многие программные продукты для обработки пространственных данных, (например Raster, Rgdal, Qgis). Используя PROJ.4 синтаксис, указываетcя полный\n",
        "набор параметров, включая эллипс, датум, единицы проекции и определение проекции, которые определяют конкретную референсную систему координат.\n",
        "Каждый элемент обозначается знаком «+». После каждого «+» задается определяемый элемент.\n",
        "Например +proj= и +datum=.\n",
        "Строка proj4 собирается из отдельных компонентов (разделенные знаком «+»). Например:\n",
        "- proj = utm: проекция UTM\n",
        "- zone = 11: зона 11.\n",
        "- datum = WGS84: начало отсчета относится к опорной точке 0,0 для системы координат,\n",
        "используемой в проекции\n",
        "- units = m: координаты указаны в МЕТРАХ.\n",
        "- ellps = WGS84: эллипсоид для данных - WGS84\n",
        "\n",
        "В результате получаем строку:\n",
        "`+proj=utm +zone=11 +datum=WGS84 +units=m +no_defs +ellps=WGS84 +towgs84=0,0,0 `\n",
        "\n",
        "Для описания других систем координат этих параметров недостаточно, и добавляются следующие:\n",
        "- lat_0 = 0  начало координат осевого меридиана.\n",
        "- lon_0 = 44,55 долгота осевого меридиана.\n",
        "- k = 1 масштаб на осевом меридиане (для проекции Гаусса- Крюгера равен 1)\n",
        "- x_0 = 1250000 ложное отклонение от меридиана к востоку в метрах (False easting)\n",
        "- y_0 =-5614743,504 ложное отклонение от широты к северу в метрах (False northing)\n",
        "  \n",
        "То есть, для пересчета  мы можем использовать строки вида `+proj=tmerc +lat_0=0 +lon_0=44.55 +k=1 +x_0=1250000 +y_0=-5614743.504 +ellps=krass +units=m +no_defs`\n",
        "\n",
        "Почитать подробнее про параметры (на английском) можно вот здесь - https://proj.org/en/9.3/usage/projections.html\n",
        "\n",
        "Для системы координат EPSG:4326 строка параметров выглядит `+proj=longlat +datum=WGS84 +no_defs +type=crs`, а для EPSG:3857 выглядит `+proj=merc +a=6378137 +b=6378137 +lat_ts=0 +lon_0=0 +x_0=0 +y_0=0 +k=1 +units=m +nadgrids=@null +wktext +no_defs +type=crs`\n"
      ]
    },
    {
      "cell_type": "markdown",
      "id": "a5a42451-2284-4400-b7ef-1598ba3e2572",
      "metadata": {
        "id": "a5a42451-2284-4400-b7ef-1598ba3e2572"
      },
      "source": [
        "## Знакомимся с библиотекой proj\n",
        "### Установим библиотеки\n",
        "Если вы выполняли все задания в одной и той же среде, то остальные нужные библиотеки у вас уже установлены.\n",
        "Если какой-то из фрагментов кода не запускается и ругается на отсутствие библиотеки, скопируйте блок с её установкой из предыдущих работ и запустите."
      ]
    },
    {
      "cell_type": "code",
      "execution_count": null,
      "id": "4a791b38-929f-4ee4-9744-e33faea726e2",
      "metadata": {
        "colab": {
          "base_uri": "https://localhost:8080/"
        },
        "id": "4a791b38-929f-4ee4-9744-e33faea726e2",
        "outputId": "63b505d9-a6c3-4a5a-e83a-14b1da4d4e26"
      },
      "outputs": [
        {
          "ename": "",
          "evalue": "",
          "output_type": "error",
          "traceback": [
            "\u001b[1;31mRunning cells with 'Python 3.11.9' requires the ipykernel package.\n",
            "\u001b[1;31m<a href='command:jupyter.createPythonEnvAndSelectController'>Create a Python Environment</a> with the required packages.\n",
            "\u001b[1;31mOr install 'ipykernel' using the command: 'c:/Users/roskadastr/AppData/Local/Microsoft/WindowsApps/python3.11.exe -m pip install ipykernel -U --user --force-reinstall'"
          ]
        }
      ],
      "source": [
        "!pip install pyproj"
      ]
    },
    {
      "cell_type": "markdown",
      "id": "64bfaca4-0866-4377-9982-ce9ce56e150a",
      "metadata": {
        "id": "64bfaca4-0866-4377-9982-ce9ce56e150a"
      },
      "source": [
        "### Пересчет. Простой случай\n",
        "Если вы используете одно и то же преобразование, использование `pyproj.transformer.Transformer` может помочь оптимизировать ваши преобразования.\n",
        "Системы координат можно описать используя коды EPSG"
      ]
    },
    {
      "cell_type": "code",
      "execution_count": 194,
      "id": "4a8a92a4-9acc-4f21-9a57-3d2af27ba3e9",
      "metadata": {
        "colab": {
          "base_uri": "https://localhost:8080/"
        },
        "id": "4a8a92a4-9acc-4f21-9a57-3d2af27ba3e9",
        "outputId": "385ceede-1748-4a4a-da59-8a5f2fff4cc2"
      },
      "outputs": [
        {
          "output_type": "execute_result",
          "data": {
            "text/plain": [
              "(40.78485058337604, -77.20251403867768)"
            ]
          },
          "metadata": {},
          "execution_count": 194
        }
      ],
      "source": [
        "import numpy\n",
        "from pyproj import Transformer, transform\n",
        "\n",
        "transformer = Transformer.from_crs(2263, 4326)\n",
        "x_coords = numpy.random.randint(80000, 120000)\n",
        "y_coords = numpy.random.randint(200000, 250000)\n",
        "transformer.transform(x_coords, y_coords)"
      ]
    },
    {
      "cell_type": "markdown",
      "id": "9702b03f-4c32-4f16-ba63-15ecf92af6ad",
      "metadata": {
        "id": "9702b03f-4c32-4f16-ba63-15ecf92af6ad"
      },
      "source": [
        "### Запуск преобразований. Описания параметров преобразования\n",
        "Если хочется исследовать преобразования подробнее, можно почитать вот тут: https://pyproj4.github.io/pyproj/stable/advanced_examples.html\n",
        "\n",
        "https://pyproj4.github.io/pyproj/stable/api/transformer.html\n",
        "\n",
        "`pyproj.transformer.TransformerGroup` предоставляет как доступные, так и отсутствующие преобразования. Полезно, если вы хотите проверить, существует ли наилучшее возможное преобразование. А если нет, то как получить недостающую сетку.\n",
        "Кроме кодов, вы также можете описать систему координат с помощью строки proj."
      ]
    },
    {
      "cell_type": "code",
      "execution_count": 195,
      "id": "0e868ff7-f98e-486c-8a48-e070d4758957",
      "metadata": {
        "colab": {
          "base_uri": "https://localhost:8080/"
        },
        "id": "0e868ff7-f98e-486c-8a48-e070d4758957",
        "outputId": "2a07b6da-13c9-4737-e680-1fddfbf1b2da"
      },
      "outputs": [
        {
          "output_type": "stream",
          "name": "stderr",
          "text": [
            "/usr/local/lib/python3.12/dist-packages/pyproj/transformer.py:207: UserWarning: Best transformation is not available due to missing Grid(short_name=ca_nrc_ntv2_0.tif, full_name=, package_name=, url=https://cdn.proj.org/ca_nrc_ntv2_0.tif, direct_download=True, open_license=True, available=False)\n",
            "  super().__init__(\n"
          ]
        },
        {
          "output_type": "execute_result",
          "data": {
            "text/plain": [
              "<TransformerGroup: best_available=False>\n",
              "- transformers: 31\n",
              "- unavailable_operations: 48"
            ]
          },
          "metadata": {},
          "execution_count": 195
        }
      ],
      "source": [
        "from pyproj.transformer import TransformerGroup\n",
        "tg = TransformerGroup(\"EPSG:4326\", \"+proj=aea +lat_0=50 +lon_0=-154 +lat_1=55 +lat_2=65 +x_0=0 +y_0=0 +datum=NAD27 +no_defs +type=crs +units=m\", always_xy=True)\n",
        "tg"
      ]
    },
    {
      "cell_type": "code",
      "execution_count": 196,
      "id": "5756e2b0-4c33-4e09-9877-49ec38ef98d6",
      "metadata": {
        "colab": {
          "base_uri": "https://localhost:8080/",
          "height": 36
        },
        "id": "5756e2b0-4c33-4e09-9877-49ec38ef98d6",
        "outputId": "153115a9-6d84-43ca-dc63-85732c32cc9e"
      },
      "outputs": [
        {
          "output_type": "execute_result",
          "data": {
            "text/plain": [
              "'axis order change (2D) + Inverse of NAD27 to WGS 84 (3) + axis order change (2D) + unknown'"
            ],
            "application/vnd.google.colaboratory.intrinsic+json": {
              "type": "string"
            }
          },
          "metadata": {},
          "execution_count": 196
        }
      ],
      "source": [
        "from pyproj.transformer import TransformerGroup\n",
        "tg = TransformerGroup(\"EPSG:4326\", \"+proj=aea +lat_0=50 +lon_0=-154 +lat_1=55 +lat_2=65 +x_0=0 +y_0=0 +datum=NAD27 +no_defs +type=crs +units=m\", always_xy=True)\n",
        "tg.transformers[0].description"
      ]
    },
    {
      "cell_type": "code",
      "execution_count": 197,
      "id": "d09bec59-e158-48b6-8970-0d0b073c7c81",
      "metadata": {
        "colab": {
          "base_uri": "https://localhost:8080/",
          "height": 36
        },
        "id": "d09bec59-e158-48b6-8970-0d0b073c7c81",
        "outputId": "0a1e6454-f4d4-4cff-c9d5-0819f06dccdc"
      },
      "outputs": [
        {
          "output_type": "execute_result",
          "data": {
            "text/plain": [
              "'Inverse of NAD27 to WGS 84 (33) + axis order change (2D) + unknown'"
            ],
            "application/vnd.google.colaboratory.intrinsic+json": {
              "type": "string"
            }
          },
          "metadata": {},
          "execution_count": 197
        }
      ],
      "source": [
        "from pyproj.transformer import TransformerGroup\n",
        "tg = TransformerGroup(\"EPSG:4326\", \"+proj=aea +lat_0=50 +lon_0=-154 +lat_1=55 +lat_2=65 +x_0=0 +y_0=0 +datum=NAD27 +no_defs +type=crs +units=m\", always_xy=True)\n",
        "tg.unavailable_operations[0].name"
      ]
    },
    {
      "cell_type": "code",
      "execution_count": 198,
      "id": "e3b0211c-df83-4f0e-8701-816a8d69c069",
      "metadata": {
        "colab": {
          "base_uri": "https://localhost:8080/",
          "height": 36
        },
        "id": "e3b0211c-df83-4f0e-8701-816a8d69c069",
        "outputId": "6fff5db9-11d3-490b-f10e-ba219eed9a88"
      },
      "outputs": [
        {
          "output_type": "execute_result",
          "data": {
            "text/plain": [
              "'https://cdn.proj.org/ca_nrc_ntv2_0.tif'"
            ],
            "application/vnd.google.colaboratory.intrinsic+json": {
              "type": "string"
            }
          },
          "metadata": {},
          "execution_count": 198
        }
      ],
      "source": [
        "from pyproj.transformer import TransformerGroup\n",
        "tg = TransformerGroup(\"EPSG:4326\", \"+proj=aea +lat_0=50 +lon_0=-154 +lat_1=55 +lat_2=65 +x_0=0 +y_0=0 +datum=NAD27 +no_defs +type=crs +units=m\", always_xy=True)\n",
        "tg.unavailable_operations[0].grids[0].url"
      ]
    },
    {
      "cell_type": "markdown",
      "id": "6d6a4efe-cb2b-403f-acac-8766656199bb",
      "metadata": {
        "id": "6d6a4efe-cb2b-403f-acac-8766656199bb"
      },
      "source": [
        "### Пересчет объекта целиком\n",
        "\n",
        "Для запуска пересчета можно подать точки целым массивом или обратиться ко всем точкам геометрического объекта.\n"
      ]
    },
    {
      "cell_type": "code",
      "execution_count": 199,
      "id": "TxwlbLaC6WoP",
      "metadata": {
        "colab": {
          "base_uri": "https://localhost:8080/"
        },
        "id": "TxwlbLaC6WoP",
        "outputId": "ef16e4bc-d43b-4c4d-d2fe-1859db8d9303"
      },
      "outputs": [
        {
          "output_type": "stream",
          "name": "stdout",
          "text": [
            "Пересчет из EPSG:4326 (градусная wgs84) в EPSG:2100: \n",
            "\n",
            "(2221638.800587292, 2637034.372068236)\n",
            "(2212924.124633718, 2619851.8981967974)\n",
            "(2238294.779022731, 2703763.7362801754)\n",
            "\n",
            " Пересчет из EPSG:4326 в некую МСК: \n",
            "\n",
            "(-583310.9199796189, -884216.8687568726)\n",
            "(-598165.1278206981, -892327.415623053)\n",
            "(-529065.0846791547, -870617.2738845842)\n",
            "\n",
            " Пересчет из EPSG:4326 в некую МСК, с обращением к полигону: \n",
            "\n",
            "(817904.9069238179, 589149.9011352416)\n",
            "(817860.4380617549, 589190.2314159079)\n",
            "(817826.7826442412, 589159.0516230008)\n",
            "(817843.0544412159, 589097.8743061014)\n",
            "(817877.7431213218, 589105.8481806554)\n",
            "(817904.9069238179, 589149.9011352416)\n"
          ]
        }
      ],
      "source": [
        "from pyproj import Transformer\n",
        "from shapely.geometry import LineString, Point, Polygon\n",
        "transformer = Transformer.from_crs(4326, 2100)\n",
        "points = [(22.95, 40.63), (22.81, 40.53), (23.51, 40.86)]\n",
        "print(\"Пересчет из EPSG:4326 (градусная wgs84) в EPSG:2100: \\n\")\n",
        "for pt in transformer.itransform(points):\n",
        "  print(pt)\n",
        "print(\"\\n Пересчет из EPSG:4326 в некую МСК: \\n\")\n",
        "transproj_eq = Transformer.from_crs(\n",
        "    'EPSG:4326',\n",
        "    '+proj=tmerc +lat_0=0 +lon_0=44.55 +k=1 +x_0=1250000 +y_0=-5614743.504 +ellps=krass +units=m +no_defs',\n",
        "    always_xy=True,\n",
        ")\n",
        "for pt in transproj_eq.itransform(points):\n",
        "    print(pt)\n",
        "print(\"\\n Пересчет из EPSG:4326 в некую МСК, с обращением к полигону: \\n\")\n",
        "pol =     Polygon(\n",
        "        LineString([\n",
        "            Point(37.660516, 55.763809), Point(37.659749, 55.764129), Point(37.659266, 55.763821), Point(37.65962, 55.76329), Point(37.660156, 55.763392), Point(37.660516, 55.763809)\n",
        "        ])\n",
        "    )\n",
        "for point in transproj_eq.itransform(pol.exterior.coords):\n",
        "  print(point)"
      ]
    },
    {
      "cell_type": "markdown",
      "id": "ea675250-0dc9-4b12-9ea6-e14b05a49710",
      "metadata": {
        "id": "ea675250-0dc9-4b12-9ea6-e14b05a49710"
      },
      "source": [
        "### Методы для вычисления периметра и площади\n",
        "А еще эта библиотека позволяет встроенными методами считать площадь и периметр объектов, опираясь на выбранный эллипсоид."
      ]
    },
    {
      "cell_type": "code",
      "execution_count": 2,
      "id": "d1b1a7bb-d5f7-44b4-be5a-a947f6a2ac9b",
      "metadata": {
        "colab": {
          "base_uri": "https://localhost:8080/",
          "height": 176
        },
        "id": "d1b1a7bb-d5f7-44b4-be5a-a947f6a2ac9b",
        "outputId": "8bba0c2f-44ef-459a-ee3b-e29cc7fb4a46"
      },
      "outputs": [
        {
          "output_type": "stream",
          "name": "stdout",
          "text": [
            "Площадь полигона с дыркой: 3801.29 кв. метров, периметр полигона: 255.97 метров. \n",
            "<svg xmlns=\"http://www.w3.org/2000/svg\" xmlns:xlink=\"http://www.w3.org/1999/xlink\" width=\"100.0\" height=\"100.0\" viewBox=\"37.659216 55.763239999999996 0.0013500000000021828 0.0009390000000024656\" preserveAspectRatio=\"xMinYMin meet\"><g transform=\"matrix(1,0,0,-1,0,111.527419)\"><path fill-rule=\"evenodd\" fill=\"#66cc99\" stroke=\"#555555\" stroke-width=\"2.7000000000043655e-05\" opacity=\"0.6\" d=\"M 37.660516,55.763809 L 37.659749,55.764129 L 37.659266,55.763821 L 37.65962,55.76329 L 37.660156,55.763392 L 37.660516,55.763809 z M 37.659878,55.763917 L 37.660221,55.763803 L 37.659802,55.763507 L 37.659878,55.763917 z\" /></g></svg>\n"
          ]
        },
        {
          "output_type": "display_data",
          "data": {
            "text/plain": [
              "<IPython.core.display.HTML object>"
            ],
            "text/html": [
              "<svg xmlns=\"http://www.w3.org/2000/svg\" xmlns:xlink=\"http://www.w3.org/1999/xlink\" width=\"100.0\" height=\"100.0\" viewBox=\"37.659216 55.763239999999996 0.0013500000000021828 0.0009390000000024656\" preserveAspectRatio=\"xMinYMin meet\"><g transform=\"matrix(1,0,0,-1,0,111.527419)\"><path fill-rule=\"evenodd\" fill=\"#66cc99\" stroke=\"#555555\" stroke-width=\"2.7000000000043655e-05\" opacity=\"0.6\" d=\"M 37.660516,55.763809 L 37.659749,55.764129 L 37.659266,55.763821 L 37.65962,55.76329 L 37.660156,55.763392 L 37.660516,55.763809 z M 37.659878,55.763917 L 37.660221,55.763803 L 37.659802,55.763507 L 37.659878,55.763917 z\" /></g></svg>"
            ]
          },
          "metadata": {}
        }
      ],
      "source": [
        "from pyproj import Geod\n",
        "from shapely.geometry import LineString, Point, Polygon\n",
        "from IPython.display import HTML, display\n",
        "geod = Geod(ellps=\"WGS84\")\n",
        "pol =     Polygon(\n",
        "        LineString([\n",
        "            Point(37.660516, 55.763809), Point(37.659749, 55.764129), Point(37.659266, 55.763821), Point(37.65962, 55.76329), Point(37.660156, 55.763392), Point(37.660516, 55.763809)\n",
        "        ]),\n",
        "        holes=[LineString([Point(37.659878, 55.763917), Point(37.660221, 55.763803), Point(37.659802, 55.763507), Point(37.659878, 55.763917)])],\n",
        "    )\n",
        "poly_area, poly_perimeter = geod.geometry_area_perimeter(pol)\n",
        "s = \"Площадь полигона с дыркой: \" + str(round(poly_area, 2)) + \" кв. метров, периметр полигона: \" + str(round(poly_perimeter, 2)) + \" метров. \"\n",
        "print(s)\n",
        "html_pol =pol._repr_svg_()\n",
        "print(html_pol)\n",
        "display(HTML(html_pol))"
      ]
    },
    {
      "cell_type": "markdown",
      "id": "6mweEuMy-B_X",
      "metadata": {
        "id": "6mweEuMy-B_X"
      },
      "source": [
        "## Приступим!\n",
        "В следующем фрагменте кода реализована генерация псевдослучайного полигона вокруг стартовой точки. И заложена основа для формирования отчета.\n",
        "Последняя строка выводит картинку получившегося полигона ниже кода, и нужна только для отладки. На файл отчета она не влияет."
      ]
    },
    {
      "cell_type": "code",
      "execution_count": 224,
      "id": "769V34gZ-F2G",
      "metadata": {
        "colab": {
          "base_uri": "https://localhost:8080/",
          "height": 122
        },
        "id": "769V34gZ-F2G",
        "outputId": "11f9c3db-2170-4b5b-d581-e9167fc73607"
      },
      "outputs": [
        {
          "output_type": "display_data",
          "data": {
            "text/plain": [
              "<IPython.core.display.HTML object>"
            ],
            "text/html": [
              "<svg xmlns=\"http://www.w3.org/2000/svg\" xmlns:xlink=\"http://www.w3.org/1999/xlink\" width=\"100.0\" height=\"100.0\" viewBox=\"31.26763884728333 58.52103154939922 0.0026773802604047603 0.0043298842623542555\" preserveAspectRatio=\"xMinYMin meet\"><g transform=\"matrix(1,0,0,-1,0,117.0463929830608)\"><path fill-rule=\"evenodd\" fill=\"#66cc99\" stroke=\"#555555\" stroke-width=\"8.65976852470851e-05\" opacity=\"0.6\" d=\"M 31.269148623128473,58.523257708264964 L 31.270155861459944,58.52455376647957 L 31.26903411221239,58.52360715325187 L 31.268665267964174,58.52520106757778 L 31.26779921336712,58.52501444146191 L 31.26859714331921,58.52334596049298 L 31.267956842815927,58.52333564823005 L 31.268368046341003,58.52302975577739 L 31.268020184465954,58.52251285436322 L 31.268755589824593,58.5229200511536 L 31.268677353170844,58.52119191548301 L 31.269484033582387,58.52128613115467 L 31.26927115036047,58.522706804739514 L 31.269632490323804,58.5228048601798 L 31.269148623128473,58.523257708264964 z\" /></g></svg>"
            ]
          },
          "metadata": {}
        }
      ],
      "source": [
        "from pyproj import Geod\n",
        "from shapely.geometry import LineString, Point, Polygon\n",
        "from pyproj import Transformer\n",
        "from IPython.display import HTML, display\n",
        "import random\n",
        "import math\n",
        "# задаем стартовую точку\n",
        "startPoint = Point(31.268882, 58.523139)\n",
        "# генерация полигона - начало\n",
        "lst = []\n",
        "j = 1\n",
        "count_p = 10 + round(7*random.random())\n",
        "center_x = startPoint.x\n",
        "center_y = startPoint.y\n",
        "while j < count_p:\n",
        "    radius = 0.0021*(0.1+random.random())\n",
        "    angle = j*2*math.pi/count_p\n",
        "    lat = (center_x+radius*math.cos(angle))\n",
        "    lon = (center_y+radius*math.sin(angle))\n",
        "    lst.append([lat, lon])\n",
        "    j = j+1\n",
        "polygon = Polygon(lst)\n",
        "# генерация полигона - конец\n",
        "result_html='''<html>\n",
        "    <body>\n",
        "      <h1>Отчет за Отчет за 3 неделю ознакомительной практики по разработке программного обеспечения геосервиса</h1>\n",
        "      <h2>Выполнила: Сивец Р.И. группа 2024-ФГиИБ-ИС-2см</h2>'''\n",
        "\n",
        "   # здесь вставить формирование svg\n",
        "html_pol = polygon._repr_svg_()\n",
        "\n",
        "# записать полученное svg в конце result_html\n",
        "result_html = result_html + html_pol\n",
        "\n",
        "  # здесь вставить подсчет площади и подсчет периметра\n",
        "poly_area, poly_perimeter = geod.geometry_area_perimeter(polygon)\n",
        "s = \"Площадь полигона: \" + str(round(poly_area, 2)) + \" кв. метров, периметр полигона: \" + str(round(poly_perimeter, 2)) + \" метров. \"\n",
        "\n",
        "\n",
        "# записать площадь и периметр в конце result_html\n",
        "result_html = result_html + s\n",
        "\n",
        "  # здесь вставить пересчет всех точек\n",
        "transformer = Transformer.from_crs(4326, 3857)\n",
        "\n",
        "  # записать сведения о системе координат и координаты пересчитанных точек в конце result_html\n",
        "result_html = result_html + \"<p>Точки полигона в системе координат EPSG:3857: </p>\"\n",
        "for pt in transformer.itransform(polygon.exterior.coords):\n",
        "  result_html = result_html + f\"{pt}<br>\"\n",
        "# записать сведения о системе координат и координаты пересчитанных точек в конце result_html\n",
        "result_html = result_html + ('''\n",
        "    </body>\n",
        "</html>''')\n",
        "file_html = open(\"result_3.html\", \"w\")\n",
        "file_html.write(result_html)\n",
        "file_html.close()\n",
        "display(HTML(polygon._repr_svg_()))"
      ]
    },
    {
      "cell_type": "markdown",
      "id": "bVPJL_XVIdUQ",
      "metadata": {
        "id": "bVPJL_XVIdUQ"
      },
      "source": [
        "### Задание\n",
        "1. Добавить титул с названием отчета, ФИО и группой\n",
        "2. Изменить стартовую точку на ваше текущее местоположение. Добавить в отчет картинку полигона (svg)\n",
        "3. Добавить в формируемый отчет подсчет площади и подсчет периметра генерируемого полигона\n",
        "4. Добавить в отчет указание целевой системы координат и массив пересчитанных точек. По умолчанию пересчитываем из EPSG:4326 в EPSG:3857\n",
        "5. Для выполнения пунктов 2-4 вносите изменения в предыдущий блок кода. Результат будет сохранен в файл `result_3.html`, его и приложить в СДО."
      ]
    },
    {
      "cell_type": "code",
      "execution_count": null,
      "id": "H4h5eL0CEm29",
      "metadata": {
        "id": "H4h5eL0CEm29"
      },
      "outputs": [],
      "source": []
    }
  ],
  "metadata": {
    "colab": {
      "provenance": []
    },
    "kernelspec": {
      "display_name": "Python 3",
      "language": "python",
      "name": "python3"
    },
    "language_info": {
      "codemirror_mode": {
        "name": "ipython",
        "version": 3
      },
      "file_extension": ".py",
      "mimetype": "text/x-python",
      "name": "python",
      "nbconvert_exporter": "python",
      "pygments_lexer": "ipython3",
      "version": "3.11.9"
    }
  },
  "nbformat": 4,
  "nbformat_minor": 5
}